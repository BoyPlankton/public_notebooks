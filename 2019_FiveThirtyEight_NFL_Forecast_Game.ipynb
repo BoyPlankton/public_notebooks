{
  "nbformat": 4,
  "nbformat_minor": 0,
  "metadata": {
    "colab": {
      "name": "2019 FiveThirtyEight NFL Forecast Game.ipynb",
      "provenance": [],
      "include_colab_link": true
    },
    "kernelspec": {
      "name": "python3",
      "display_name": "Python 3"
    }
  },
  "cells": [
    {
      "cell_type": "markdown",
      "metadata": {
        "id": "view-in-github",
        "colab_type": "text"
      },
      "source": [
        "<a href=\"https://colab.research.google.com/github/BoyPlankton/public_notebooks/blob/master/2019_FiveThirtyEight_NFL_Forecast_Game.ipynb\" target=\"_parent\"><img src=\"https://colab.research.google.com/assets/colab-badge.svg\" alt=\"Open In Colab\"/></a>"
      ]
    },
    {
      "cell_type": "code",
      "metadata": {
        "id": "Qm4Ly_WqCGMX",
        "colab_type": "code",
        "colab": {
          "base_uri": "https://localhost:8080/",
          "height": 34
        },
        "outputId": "4cfe55dd-f13f-4c86-935d-6b2236ec9b54"
      },
      "source": [
        "!pip install --upgrade -q trueskill\n",
        "!pip install --upgrade -q gspread\n",
        "!pip install --upgrade -q gspread-dataframe"
      ],
      "execution_count": 1,
      "outputs": [
        {
          "output_type": "stream",
          "text": [
            "  Building wheel for trueskill (setup.py) ... \u001b[?25l\u001b[?25hdone\n"
          ],
          "name": "stdout"
        }
      ]
    },
    {
      "cell_type": "code",
      "metadata": {
        "id": "SNghpLveCpvF",
        "colab_type": "code",
        "colab": {}
      },
      "source": [
        "import pandas as pd\n",
        "import io\n",
        "import requests\n",
        "\n",
        "s=requests.get(\"https://projects.fivethirtyeight.com/nfl-api/nfl_elo_latest.csv\").content\n",
        "data=pd.read_csv(io.StringIO(s.decode('utf-8')))"
      ],
      "execution_count": 0,
      "outputs": []
    },
    {
      "cell_type": "code",
      "metadata": {
        "id": "rwC8luB7LR1C",
        "colab_type": "code",
        "colab": {}
      },
      "source": [
        "import numpy as np\n",
        "\n",
        "team_abbr = np.append(data.team1.unique(), data.team2.unique())\n",
        "\n",
        "team_abbr = np.unique([x for x in team_abbr if isinstance(x, str)])"
      ],
      "execution_count": 0,
      "outputs": []
    },
    {
      "cell_type": "code",
      "metadata": {
        "id": "fN5n5UyQOGr4",
        "colab_type": "code",
        "colab": {}
      },
      "source": [
        "from trueskill import Rating, rate_1vs1, BETA, global_env\n",
        "import math\n",
        "import itertools\n",
        "\n",
        "teams = {}\n",
        "\n",
        "for x in team_abbr:\n",
        "  teams[x] = Rating()\n",
        "\n",
        "# from the example at https://trueskill.org\n",
        "def win_probability(team1, team2):\n",
        "  delta_mu = sum(r.mu for r in team1) - sum(r.mu for r in team2)\n",
        "  sum_sigma = sum(r.sigma ** 2 for r in itertools.chain(team1, team2))\n",
        "  size = len(team1) + len(team2)\n",
        "  denom = math.sqrt(size * (BETA * BETA) + sum_sigma)\n",
        "  ts = global_env()\n",
        "  return ts.cdf(delta_mu / denom)\n",
        "\n",
        "def eval(x):\n",
        "  wp_h = win_probability([teams[x[\"team1\"]]], [teams[x[\"team2\"]]])\n",
        "  wp_v = win_probability([teams[x[\"team2\"]]], [teams[x[\"team1\"]]])\n",
        "\n",
        "  if wp_h > wp_v:\n",
        "    return [x[\"team1\"], wp_h]\n",
        "  elif wp_v > wp_h:\n",
        "    return [x[\"team2\"], wp_v]\n",
        "\n",
        "  return [\"tie\", wp_h]\n",
        "\n",
        "def upd_ratings(x):\n",
        "  if x[\"score1\"] > x[\"score2\"]:\n",
        "    n1, n2 = rate_1vs1(teams[x[\"team1\"]], teams[x[\"team2\"]])\n",
        "    win = x[\"team1\"]\n",
        "  elif x[\"score2\"] > x[\"score1\"]:\n",
        "    n2, n1 = rate_1vs1(teams[x[\"team2\"]], teams[x[\"team1\"]])\n",
        "    win = x[\"team2\"]\n",
        "  else:\n",
        "    n1, n2 = rate_1vs1(teams[x[\"team1\"]], teams[x[\"team2\"]], drawn=True)\n",
        "\n",
        "  teams[x[\"team1\"]] = n1\n",
        "  teams[x[\"team2\"]] = n2\n",
        "\n",
        "def upd_eval(x):\n",
        "  y = eval(x)\n",
        "\n",
        "  upd_ratings(x)\n",
        "\n",
        "  return y\n",
        "\n",
        "data['wp'] = data[data['date'] <= '2019-11-07'].apply(lambda x: upd_eval(x), axis=1)"
      ],
      "execution_count": 0,
      "outputs": []
    },
    {
      "cell_type": "code",
      "metadata": {
        "id": "TC1plARNO-3Q",
        "colab_type": "code",
        "colab": {}
      },
      "source": [
        "data['wp'] = data[data['date'] == '2019-11-11'].apply(lambda x: eval(x), axis=1)"
      ],
      "execution_count": 0,
      "outputs": []
    },
    {
      "cell_type": "code",
      "metadata": {
        "id": "srznsnWaVjpr",
        "colab_type": "code",
        "outputId": "b6f79d0a-7461-48a2-a8bf-1850cf14a766",
        "colab": {
          "base_uri": "https://localhost:8080/",
          "height": 80
        }
      },
      "source": [
        "data[data['date'] == '2019-11-11'][['team1','team2','elo_prob1','elo_prob2','score1','score2','wp']]"
      ],
      "execution_count": 38,
      "outputs": [
        {
          "output_type": "execute_result",
          "data": {
            "text/html": [
              "<div>\n",
              "<style scoped>\n",
              "    .dataframe tbody tr th:only-of-type {\n",
              "        vertical-align: middle;\n",
              "    }\n",
              "\n",
              "    .dataframe tbody tr th {\n",
              "        vertical-align: top;\n",
              "    }\n",
              "\n",
              "    .dataframe thead th {\n",
              "        text-align: right;\n",
              "    }\n",
              "</style>\n",
              "<table border=\"1\" class=\"dataframe\">\n",
              "  <thead>\n",
              "    <tr style=\"text-align: right;\">\n",
              "      <th></th>\n",
              "      <th>team1</th>\n",
              "      <th>team2</th>\n",
              "      <th>elo_prob1</th>\n",
              "      <th>elo_prob2</th>\n",
              "      <th>score1</th>\n",
              "      <th>score2</th>\n",
              "      <th>wp</th>\n",
              "    </tr>\n",
              "  </thead>\n",
              "  <tbody>\n",
              "    <tr>\n",
              "      <th>147</th>\n",
              "      <td>SF</td>\n",
              "      <td>SEA</td>\n",
              "      <td>0.639448</td>\n",
              "      <td>0.360552</td>\n",
              "      <td>NaN</td>\n",
              "      <td>NaN</td>\n",
              "      <td>[SF, 0.8136098116189436]</td>\n",
              "    </tr>\n",
              "  </tbody>\n",
              "</table>\n",
              "</div>"
            ],
            "text/plain": [
              "    team1 team2  elo_prob1  elo_prob2  score1  score2                        wp\n",
              "147    SF   SEA   0.639448   0.360552     NaN     NaN  [SF, 0.8136098116189436]"
            ]
          },
          "metadata": {
            "tags": []
          },
          "execution_count": 38
        }
      ]
    },
    {
      "cell_type": "code",
      "metadata": {
        "id": "mGOabh4jYBUk",
        "colab_type": "code",
        "colab": {}
      },
      "source": [
        ""
      ],
      "execution_count": 0,
      "outputs": []
    }
  ]
}