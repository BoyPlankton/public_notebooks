{
  "nbformat": 4,
  "nbformat_minor": 0,
  "metadata": {
    "colab": {
      "name": "2019 FiveThirtyEight NFL Forecast Game.ipynb",
      "provenance": [],
      "include_colab_link": true
    },
    "kernelspec": {
      "name": "python3",
      "display_name": "Python 3"
    }
  },
  "cells": [
    {
      "cell_type": "markdown",
      "metadata": {
        "id": "view-in-github",
        "colab_type": "text"
      },
      "source": [
        "<a href=\"https://colab.research.google.com/github/BoyPlankton/public_notebooks/blob/master/2019_FiveThirtyEight_NFL_Forecast_Game.ipynb\" target=\"_parent\"><img src=\"https://colab.research.google.com/assets/colab-badge.svg\" alt=\"Open In Colab\"/></a>"
      ]
    },
    {
      "cell_type": "code",
      "metadata": {
        "id": "Qm4Ly_WqCGMX",
        "colab_type": "code",
        "colab": {}
      },
      "source": [
        "!pip install --upgrade -q trueskill\n",
        "!pip install --upgrade -q gspread\n",
        "!pip install --upgrade -q gspread-dataframe"
      ],
      "execution_count": 0,
      "outputs": []
    },
    {
      "cell_type": "code",
      "metadata": {
        "id": "SNghpLveCpvF",
        "colab_type": "code",
        "colab": {}
      },
      "source": [
        "import pandas as pd\n",
        "import io\n",
        "import requests\n",
        "\n",
        "s=requests.get(\"https://projects.fivethirtyeight.com/nfl-api/nfl_elo_latest.csv\").content\n",
        "data=pd.read_csv(io.StringIO(s.decode('utf-8')))"
      ],
      "execution_count": 0,
      "outputs": []
    },
    {
      "cell_type": "code",
      "metadata": {
        "id": "rwC8luB7LR1C",
        "colab_type": "code",
        "colab": {}
      },
      "source": [
        "import numpy as np\n",
        "\n",
        "team_abbr = np.append(data.team1.unique(), data.team2.unique())\n",
        "\n",
        "team_abbr = np.unique([x for x in team_abbr if isinstance(x, str)])"
      ],
      "execution_count": 0,
      "outputs": []
    },
    {
      "cell_type": "code",
      "metadata": {
        "id": "fN5n5UyQOGr4",
        "colab_type": "code",
        "colab": {}
      },
      "source": [
        "from trueskill import Rating, rate_1vs1, BETA, global_env\n",
        "import math\n",
        "import itertools\n",
        "\n",
        "teams = {}\n",
        "\n",
        "for x in team_abbr:\n",
        "  teams[x] = Rating()\n",
        "\n",
        "# from the example at https://trueskill.org\n",
        "def win_probability(team1, team2):\n",
        "  delta_mu = sum(r.mu for r in team1) - sum(r.mu for r in team2)\n",
        "  sum_sigma = sum(r.sigma ** 2 for r in itertools.chain(team1, team2))\n",
        "  size = len(team1) + len(team2)\n",
        "  denom = math.sqrt(size * (BETA * BETA) + sum_sigma)\n",
        "  ts = global_env()\n",
        "  return ts.cdf(delta_mu / denom)\n",
        "\n",
        "def eval(x):\n",
        "  wp_h = win_probability([teams[x[\"team1\"]]], [teams[x[\"team2\"]]])\n",
        "  wp_v = win_probability([teams[x[\"team2\"]]], [teams[x[\"team1\"]]])\n",
        "\n",
        "  if wp_h > wp_v:\n",
        "    return [x[\"team1\"], wp_h]\n",
        "  elif wp_v > wp_h:\n",
        "    return [x[\"team2\"], wp_v]\n",
        "\n",
        "  return [\"tie\", wp_h]\n",
        "\n",
        "def upd_ratings(x):\n",
        "  if x[\"score1\"] > x[\"score2\"]:\n",
        "    n1, n2 = rate_1vs1(teams[x[\"team1\"]], teams[x[\"team2\"]])\n",
        "    win = x[\"team1\"]\n",
        "  elif x[\"score2\"] > x[\"score1\"]:\n",
        "    n2, n1 = rate_1vs1(teams[x[\"team2\"]], teams[x[\"team1\"]])\n",
        "    win = x[\"team2\"]\n",
        "  else:\n",
        "    n1, n2 = rate_1vs1(teams[x[\"team1\"]], teams[x[\"team2\"]], drawn=True)\n",
        "\n",
        "  teams[x[\"team1\"]] = n1\n",
        "  teams[x[\"team2\"]] = n2\n",
        "\n",
        "def upd_eval(x):\n",
        "  y = eval(x)\n",
        "\n",
        "  upd_ratings(x)\n",
        "\n",
        "  return y\n",
        "\n",
        "data['wp'] = data[data['date'] < '2019-11-14'].apply(lambda x: upd_eval(x), axis=1)"
      ],
      "execution_count": 0,
      "outputs": []
    },
    {
      "cell_type": "code",
      "metadata": {
        "id": "TC1plARNO-3Q",
        "colab_type": "code",
        "colab": {}
      },
      "source": [
        "data['wp'] = data[(data['date'] >= '2019-11-14') & (data['date'] <= '2019-11-18')].apply(lambda x: eval(x), axis=1)"
      ],
      "execution_count": 0,
      "outputs": []
    },
    {
      "cell_type": "code",
      "metadata": {
        "id": "srznsnWaVjpr",
        "colab_type": "code",
        "outputId": "4029357d-91c6-49f5-c52c-7ac3953da04d",
        "colab": {
          "base_uri": "https://localhost:8080/",
          "height": 483
        }
      },
      "source": [
        "data[(data['date'] >= '2019-11-14') & (data['date'] <= '2019-11-18')][['team1','team2','elo_prob1','elo_prob2','score1','score2','wp']]"
      ],
      "execution_count": 19,
      "outputs": [
        {
          "output_type": "execute_result",
          "data": {
            "text/html": [
              "<div>\n",
              "<style scoped>\n",
              "    .dataframe tbody tr th:only-of-type {\n",
              "        vertical-align: middle;\n",
              "    }\n",
              "\n",
              "    .dataframe tbody tr th {\n",
              "        vertical-align: top;\n",
              "    }\n",
              "\n",
              "    .dataframe thead th {\n",
              "        text-align: right;\n",
              "    }\n",
              "</style>\n",
              "<table border=\"1\" class=\"dataframe\">\n",
              "  <thead>\n",
              "    <tr style=\"text-align: right;\">\n",
              "      <th></th>\n",
              "      <th>team1</th>\n",
              "      <th>team2</th>\n",
              "      <th>elo_prob1</th>\n",
              "      <th>elo_prob2</th>\n",
              "      <th>score1</th>\n",
              "      <th>score2</th>\n",
              "      <th>wp</th>\n",
              "    </tr>\n",
              "  </thead>\n",
              "  <tbody>\n",
              "    <tr>\n",
              "      <th>148</th>\n",
              "      <td>CLE</td>\n",
              "      <td>PIT</td>\n",
              "      <td>0.398335</td>\n",
              "      <td>0.601665</td>\n",
              "      <td>NaN</td>\n",
              "      <td>NaN</td>\n",
              "      <td>[PIT, 0.6688334057753781]</td>\n",
              "    </tr>\n",
              "    <tr>\n",
              "      <th>149</th>\n",
              "      <td>MIN</td>\n",
              "      <td>DEN</td>\n",
              "      <td>0.800677</td>\n",
              "      <td>0.199323</td>\n",
              "      <td>NaN</td>\n",
              "      <td>NaN</td>\n",
              "      <td>[MIN, 0.8390304437046163]</td>\n",
              "    </tr>\n",
              "    <tr>\n",
              "      <th>150</th>\n",
              "      <td>BAL</td>\n",
              "      <td>HOU</td>\n",
              "      <td>0.679152</td>\n",
              "      <td>0.320848</td>\n",
              "      <td>NaN</td>\n",
              "      <td>NaN</td>\n",
              "      <td>[BAL, 0.6595148863250907]</td>\n",
              "    </tr>\n",
              "    <tr>\n",
              "      <th>151</th>\n",
              "      <td>WSH</td>\n",
              "      <td>NYJ</td>\n",
              "      <td>0.604104</td>\n",
              "      <td>0.395896</td>\n",
              "      <td>NaN</td>\n",
              "      <td>NaN</td>\n",
              "      <td>[NYJ, 0.5631860978344945]</td>\n",
              "    </tr>\n",
              "    <tr>\n",
              "      <th>152</th>\n",
              "      <td>CAR</td>\n",
              "      <td>ATL</td>\n",
              "      <td>0.688945</td>\n",
              "      <td>0.311055</td>\n",
              "      <td>NaN</td>\n",
              "      <td>NaN</td>\n",
              "      <td>[CAR, 0.8136894613399841]</td>\n",
              "    </tr>\n",
              "    <tr>\n",
              "      <th>153</th>\n",
              "      <td>IND</td>\n",
              "      <td>JAX</td>\n",
              "      <td>0.708369</td>\n",
              "      <td>0.291631</td>\n",
              "      <td>NaN</td>\n",
              "      <td>NaN</td>\n",
              "      <td>[IND, 0.6805307890550811]</td>\n",
              "    </tr>\n",
              "    <tr>\n",
              "      <th>154</th>\n",
              "      <td>DET</td>\n",
              "      <td>DAL</td>\n",
              "      <td>0.447757</td>\n",
              "      <td>0.552243</td>\n",
              "      <td>NaN</td>\n",
              "      <td>NaN</td>\n",
              "      <td>[DAL, 0.559488708004384]</td>\n",
              "    </tr>\n",
              "    <tr>\n",
              "      <th>155</th>\n",
              "      <td>TB</td>\n",
              "      <td>NO</td>\n",
              "      <td>0.348555</td>\n",
              "      <td>0.651445</td>\n",
              "      <td>NaN</td>\n",
              "      <td>NaN</td>\n",
              "      <td>[NO, 0.845648241939469]</td>\n",
              "    </tr>\n",
              "    <tr>\n",
              "      <th>156</th>\n",
              "      <td>MIA</td>\n",
              "      <td>BUF</td>\n",
              "      <td>0.428276</td>\n",
              "      <td>0.571724</td>\n",
              "      <td>NaN</td>\n",
              "      <td>NaN</td>\n",
              "      <td>[BUF, 0.7365510032755871]</td>\n",
              "    </tr>\n",
              "    <tr>\n",
              "      <th>157</th>\n",
              "      <td>SF</td>\n",
              "      <td>ARI</td>\n",
              "      <td>0.847265</td>\n",
              "      <td>0.152735</td>\n",
              "      <td>NaN</td>\n",
              "      <td>NaN</td>\n",
              "      <td>[SF, 0.9480295861469703]</td>\n",
              "    </tr>\n",
              "    <tr>\n",
              "      <th>158</th>\n",
              "      <td>PHI</td>\n",
              "      <td>NE</td>\n",
              "      <td>0.434015</td>\n",
              "      <td>0.565985</td>\n",
              "      <td>NaN</td>\n",
              "      <td>NaN</td>\n",
              "      <td>[NE, 0.798120088393094]</td>\n",
              "    </tr>\n",
              "    <tr>\n",
              "      <th>159</th>\n",
              "      <td>OAK</td>\n",
              "      <td>CIN</td>\n",
              "      <td>0.786409</td>\n",
              "      <td>0.213591</td>\n",
              "      <td>NaN</td>\n",
              "      <td>NaN</td>\n",
              "      <td>[OAK, 0.984841925882543]</td>\n",
              "    </tr>\n",
              "    <tr>\n",
              "      <th>160</th>\n",
              "      <td>LAR</td>\n",
              "      <td>CHI</td>\n",
              "      <td>0.637134</td>\n",
              "      <td>0.362866</td>\n",
              "      <td>NaN</td>\n",
              "      <td>NaN</td>\n",
              "      <td>[LAR, 0.5673626517894139]</td>\n",
              "    </tr>\n",
              "    <tr>\n",
              "      <th>161</th>\n",
              "      <td>LAC</td>\n",
              "      <td>KC</td>\n",
              "      <td>0.404543</td>\n",
              "      <td>0.595457</td>\n",
              "      <td>NaN</td>\n",
              "      <td>NaN</td>\n",
              "      <td>[KC, 0.7992843557973348]</td>\n",
              "    </tr>\n",
              "  </tbody>\n",
              "</table>\n",
              "</div>"
            ],
            "text/plain": [
              "    team1 team2  elo_prob1  ...  score1  score2                         wp\n",
              "148   CLE   PIT   0.398335  ...     NaN     NaN  [PIT, 0.6688334057753781]\n",
              "149   MIN   DEN   0.800677  ...     NaN     NaN  [MIN, 0.8390304437046163]\n",
              "150   BAL   HOU   0.679152  ...     NaN     NaN  [BAL, 0.6595148863250907]\n",
              "151   WSH   NYJ   0.604104  ...     NaN     NaN  [NYJ, 0.5631860978344945]\n",
              "152   CAR   ATL   0.688945  ...     NaN     NaN  [CAR, 0.8136894613399841]\n",
              "153   IND   JAX   0.708369  ...     NaN     NaN  [IND, 0.6805307890550811]\n",
              "154   DET   DAL   0.447757  ...     NaN     NaN   [DAL, 0.559488708004384]\n",
              "155    TB    NO   0.348555  ...     NaN     NaN    [NO, 0.845648241939469]\n",
              "156   MIA   BUF   0.428276  ...     NaN     NaN  [BUF, 0.7365510032755871]\n",
              "157    SF   ARI   0.847265  ...     NaN     NaN   [SF, 0.9480295861469703]\n",
              "158   PHI    NE   0.434015  ...     NaN     NaN    [NE, 0.798120088393094]\n",
              "159   OAK   CIN   0.786409  ...     NaN     NaN   [OAK, 0.984841925882543]\n",
              "160   LAR   CHI   0.637134  ...     NaN     NaN  [LAR, 0.5673626517894139]\n",
              "161   LAC    KC   0.404543  ...     NaN     NaN   [KC, 0.7992843557973348]\n",
              "\n",
              "[14 rows x 7 columns]"
            ]
          },
          "metadata": {
            "tags": []
          },
          "execution_count": 19
        }
      ]
    },
    {
      "cell_type": "code",
      "metadata": {
        "id": "mGOabh4jYBUk",
        "colab_type": "code",
        "outputId": "0aee9314-7241-402f-ac48-4bb313f41b79",
        "colab": {
          "base_uri": "https://localhost:8080/",
          "height": 561
        }
      },
      "source": [
        "teams"
      ],
      "execution_count": 0,
      "outputs": [
        {
          "output_type": "execute_result",
          "data": {
            "text/plain": [
              "{'ARI': trueskill.Rating(mu=22.416, sigma=3.514),\n",
              " 'ATL': trueskill.Rating(mu=15.976, sigma=3.648),\n",
              " 'BAL': trueskill.Rating(mu=32.306, sigma=3.554),\n",
              " 'BUF': trueskill.Rating(mu=27.110, sigma=3.978),\n",
              " 'CAR': trueskill.Rating(mu=28.639, sigma=3.532),\n",
              " 'CHI': trueskill.Rating(mu=21.077, sigma=3.429),\n",
              " 'CIN': trueskill.Rating(mu=11.239, sigma=4.262),\n",
              " 'CLE': trueskill.Rating(mu=21.660, sigma=3.699),\n",
              " 'DAL': trueskill.Rating(mu=25.084, sigma=3.538),\n",
              " 'DEN': trueskill.Rating(mu=22.593, sigma=3.447),\n",
              " 'DET': trueskill.Rating(mu=24.968, sigma=3.427),\n",
              " 'GB': trueskill.Rating(mu=30.175, sigma=3.190),\n",
              " 'HOU': trueskill.Rating(mu=29.218, sigma=3.186),\n",
              " 'IND': trueskill.Rating(mu=28.995, sigma=3.323),\n",
              " 'JAX': trueskill.Rating(mu=22.276, sigma=3.553),\n",
              " 'KC': trueskill.Rating(mu=30.405, sigma=3.189),\n",
              " 'LAC': trueskill.Rating(mu=21.967, sigma=2.915),\n",
              " 'LAR': trueskill.Rating(mu=25.857, sigma=3.858),\n",
              " 'MIA': trueskill.Rating(mu=15.116, sigma=3.927),\n",
              " 'MIN': trueskill.Rating(mu=29.265, sigma=3.349),\n",
              " 'NE': trueskill.Rating(mu=33.001, sigma=4.069),\n",
              " 'NO': trueskill.Rating(mu=35.510, sigma=3.966),\n",
              " 'NYG': trueskill.Rating(mu=18.233, sigma=3.535),\n",
              " 'NYJ': trueskill.Rating(mu=15.710, sigma=3.697),\n",
              " 'OAK': trueskill.Rating(mu=28.343, sigma=3.156),\n",
              " 'PHI': trueskill.Rating(mu=26.442, sigma=3.231),\n",
              " 'PIT': trueskill.Rating(mu=25.827, sigma=3.654),\n",
              " 'SEA': trueskill.Rating(mu=29.714, sigma=3.546),\n",
              " 'SF': trueskill.Rating(mu=36.999, sigma=4.418),\n",
              " 'TB': trueskill.Rating(mu=20.572, sigma=3.471),\n",
              " 'TEN': trueskill.Rating(mu=21.678, sigma=3.201),\n",
              " 'WSH': trueskill.Rating(mu=16.332, sigma=4.237)}"
            ]
          },
          "metadata": {
            "tags": []
          },
          "execution_count": 50
        }
      ]
    },
    {
      "cell_type": "code",
      "metadata": {
        "id": "N23PffBMiZfk",
        "colab_type": "code",
        "colab": {}
      },
      "source": [
        ""
      ],
      "execution_count": 0,
      "outputs": []
    }
  ]
}