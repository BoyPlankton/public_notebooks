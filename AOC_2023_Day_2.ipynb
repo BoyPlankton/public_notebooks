{
  "nbformat": 4,
  "nbformat_minor": 0,
  "metadata": {
    "colab": {
      "provenance": [],
      "authorship_tag": "ABX9TyOaIRvMXzPbeaA+c5NKWPbA",
      "include_colab_link": true
    },
    "kernelspec": {
      "name": "python3",
      "display_name": "Python 3"
    },
    "language_info": {
      "name": "python"
    }
  },
  "cells": [
    {
      "cell_type": "markdown",
      "metadata": {
        "id": "view-in-github",
        "colab_type": "text"
      },
      "source": [
        "<a href=\"https://colab.research.google.com/github/BoyPlankton/public_notebooks/blob/main/AOC_2023_Day_2.ipynb\" target=\"_parent\"><img src=\"https://colab.research.google.com/assets/colab-badge.svg\" alt=\"Open In Colab\"/></a>"
      ]
    },
    {
      "cell_type": "code",
      "execution_count": 1,
      "metadata": {
        "id": "N3jjlafV535_"
      },
      "outputs": [],
      "source": [
        "import pandas as pd"
      ]
    },
    {
      "cell_type": "markdown",
      "source": [
        "--- Day 2: Cube Conundrum ---\n",
        "\n",
        "You're launched high into the atmosphere! The apex of your trajectory just barely reaches the surface of a large island floating in the sky. You gently land in a fluffy pile of leaves. It's quite cold, but you don't see much snow. An Elf runs over to greet you.\n",
        "\n",
        "The Elf explains that you've arrived at Snow Island and apologizes for the lack of snow. He'll be happy to explain the situation, but it's a bit of a walk, so you have some time. They don't get many visitors up here; would you like to play a game in the meantime?\n",
        "\n",
        "As you walk, the Elf shows you a small bag and some cubes which are either red, green, or blue. Each time you play this game, he will hide a secret number of cubes of each color in the bag, and your goal is to figure out information about the number of cubes.\n",
        "\n",
        "To get information, once a bag has been loaded with cubes, the Elf will reach into the bag, grab a handful of random cubes, show them to you, and then put them back in the bag. He'll do this a few times per game.\n",
        "\n",
        "You play several games and record the information from each game (your puzzle input). Each game is listed with its ID number (like the 11 in Game 11: ...) followed by a semicolon-separated list of subsets of cubes that were revealed from the bag (like 3 red, 5 green, 4 blue).\n",
        "\n",
        "For example, the record of a few games might look like this:\n",
        "\n",
        "```\n",
        "Game 1: 3 blue, 4 red; 1 red, 2 green, 6 blue; 2 green\n",
        "Game 2: 1 blue, 2 green; 3 green, 4 blue, 1 red; 1 green, 1 blue\n",
        "Game 3: 8 green, 6 blue, 20 red; 5 blue, 4 red, 13 green; 5 green, 1 red\n",
        "Game 4: 1 green, 3 red, 6 blue; 3 green, 6 red; 3 green, 15 blue, 14 red\n",
        "Game 5: 6 red, 1 blue, 3 green; 2 blue, 1 red, 2 green\n",
        "```\n",
        "\n",
        "In game 1, three sets of cubes are revealed from the bag (and then put back again). The first set is 3 blue cubes and 4 red cubes; the second set is 1 red cube, 2 green cubes, and 6 blue cubes; the third set is only 2 green cubes.\n",
        "\n",
        "The Elf would first like to know which games would have been possible if the bag contained only 12 red cubes, 13 green cubes, and 14 blue cubes?\n",
        "\n",
        "In the example above, games 1, 2, and 5 would have been possible if the bag had been loaded with that configuration. However, game 3 would have been impossible because at one point the Elf showed you 20 red cubes at once; similarly, game 4 would also have been impossible because the Elf showed you 15 blue cubes at once. If you add up the IDs of the games that would have been possible, you get 8.\n",
        "\n",
        "Determine which games would have been possible if the bag had been loaded with only 12 red cubes, 13 green cubes, and 14 blue cubes. What is the sum of the IDs of those games?\n",
        "\n",
        "Your puzzle answer was 2600."
      ],
      "metadata": {
        "id": "q9NKWDWJG0kW"
      }
    },
    {
      "cell_type": "code",
      "source": [
        "def parseGame(game):\n",
        "  output = {'id': 0, 'status': True}\n",
        "\n",
        "  (ids, data) = game.split(':')\n",
        "\n",
        "  output['id'] = int(ids.split(' ')[1])\n",
        "\n",
        "  for x in data.split(';'):\n",
        "    vals = {'blue': 0, 'red': 0, 'green': 0}\n",
        "\n",
        "    x = x.strip()\n",
        "\n",
        "    for y in x.split(','):\n",
        "\n",
        "      y = y.strip()\n",
        "\n",
        "      z = y.split(' ')\n",
        "\n",
        "      vals[z[1]] = vals[z[1]] + int(z[0])\n",
        "\n",
        "    if vals['red'] > 12:\n",
        "      output['status'] = False\n",
        "\n",
        "    if vals['green'] > 13:\n",
        "      output['status'] = False\n",
        "\n",
        "    if vals['blue'] > 14:\n",
        "      output['status'] = False\n",
        "\n",
        "  return output"
      ],
      "metadata": {
        "id": "6p1R4CvT7GEV"
      },
      "execution_count": 2,
      "outputs": []
    },
    {
      "cell_type": "code",
      "source": [
        "parseGame(\"Game 100: 5 green, 1 red; 1 red, 6 green; 6 blue, 1 red, 6 green; 6 blue, 1 green, 2 red; 8 blue, 1 red, 4 green; 8 green, 5 blue\")"
      ],
      "metadata": {
        "colab": {
          "base_uri": "https://localhost:8080/"
        },
        "id": "fqAxapyg7OKO",
        "outputId": "b88b1388-34da-4bfc-a28e-eafe8570effa"
      },
      "execution_count": 3,
      "outputs": [
        {
          "output_type": "execute_result",
          "data": {
            "text/plain": [
              "{'id': 100, 'status': True}"
            ]
          },
          "metadata": {},
          "execution_count": 3
        }
      ]
    },
    {
      "cell_type": "code",
      "source": [
        "df = pd.DataFrame()\n",
        "\n",
        "f = open('aoc_day2_input.txt', 'r')\n",
        "\n",
        "for line in f:\n",
        "  df = pd.concat([df, pd.DataFrame(parseGame(line), index=[0])])"
      ],
      "metadata": {
        "id": "s6rRyJsM-IMq"
      },
      "execution_count": 4,
      "outputs": []
    },
    {
      "cell_type": "code",
      "source": [
        "df[df['status']==True]['id'].sum()"
      ],
      "metadata": {
        "colab": {
          "base_uri": "https://localhost:8080/"
        },
        "id": "MNruCwuC-kyT",
        "outputId": "13009957-97a0-4d80-b29c-1b31d26c51d1"
      },
      "execution_count": 5,
      "outputs": [
        {
          "output_type": "execute_result",
          "data": {
            "text/plain": [
              "2600"
            ]
          },
          "metadata": {},
          "execution_count": 5
        }
      ]
    },
    {
      "cell_type": "markdown",
      "source": [
        "--- Part Two ---\n",
        "\n",
        "The Elf says they've stopped producing snow because they aren't getting any water! He isn't sure why the water stopped; however, he can show you how to get to the water source to check it out for yourself. It's just up ahead!\n",
        "\n",
        "As you continue your walk, the Elf poses a second question: in each game you played, what is the fewest number of cubes of each color that could have been in the bag to make the game possible?\n",
        "\n",
        "Again consider the example games from earlier:\n",
        "\n",
        "```\n",
        "Game 1: 3 blue, 4 red; 1 red, 2 green, 6 blue; 2 green\n",
        "Game 2: 1 blue, 2 green; 3 green, 4 blue, 1 red; 1 green, 1 blue\n",
        "Game 3: 8 green, 6 blue, 20 red; 5 blue, 4 red, 13 green; 5 green, 1 red\n",
        "Game 4: 1 green, 3 red, 6 blue; 3 green, 6 red; 3 green, 15 blue, 14 red\n",
        "Game 5: 6 red, 1 blue, 3 green; 2 blue, 1 red, 2 green\n",
        "```\n",
        "\n",
        "In game 1, the game could have been played with as few as 4 red, 2 green, and 6 blue cubes. If any color had even one fewer cube, the game would have been impossible.\n",
        "\n",
        "Game 2 could have been played with a minimum of 1 red, 3 green, and 4 blue cubes.\n",
        "\n",
        "Game 3 must have been played with at least 20 red, 13 green, and 6 blue cubes.\n",
        "\n",
        "Game 4 required at least 14 red, 3 green, and 15 blue cubes.\n",
        "\n",
        "Game 5 needed no fewer than 6 red, 3 green, and 2 blue cubes in the bag.\n",
        "\n",
        "The power of a set of cubes is equal to the numbers of red, green, and blue cubes multiplied together. The power of the minimum set of cubes in game 1 is 48. In games 2-5 it was 12, 1560, 630, and 36, respectively. Adding up these five powers produces the sum 2286.\n",
        "\n",
        "For each game, find the minimum set of cubes that must have been present. What is the sum of the power of these sets?\n",
        "\n",
        "Your puzzle answer was 86036."
      ],
      "metadata": {
        "id": "PHbFsc_4HFju"
      }
    },
    {
      "cell_type": "code",
      "source": [
        "def parseGame2(game):\n",
        "  vals = {'blue': 0, 'red': 0, 'green': 0}\n",
        "\n",
        "  (ids, data) = game.split(':')\n",
        "\n",
        "  vals['id'] = int(ids.split(' ')[1])\n",
        "\n",
        "  for x in data.split(';'):\n",
        "    x = x.strip()\n",
        "\n",
        "    for y in x.split(','):\n",
        "      y = y.strip()\n",
        "\n",
        "      z = y.split(' ')\n",
        "\n",
        "      if vals[z[1]] < int(z[0]):\n",
        "        vals[z[1]] = int(z[0])\n",
        "\n",
        "  return vals"
      ],
      "metadata": {
        "id": "QILfDBJJBjlp"
      },
      "execution_count": 96,
      "outputs": []
    },
    {
      "cell_type": "code",
      "source": [
        "df = pd.DataFrame()\n",
        "\n",
        "f = open('aoc_day2_input.txt', 'r')\n",
        "\n",
        "for line in f:\n",
        "  df = pd.concat([df, pd.DataFrame(parseGame2(line), index=[0])])"
      ],
      "metadata": {
        "id": "12pembWZKJP5"
      },
      "execution_count": 97,
      "outputs": []
    },
    {
      "cell_type": "code",
      "source": [
        "df['power'] = df['blue'] * df['red'] * df['green']"
      ],
      "metadata": {
        "id": "D1B0ZTOvKPzl"
      },
      "execution_count": 99,
      "outputs": []
    },
    {
      "cell_type": "code",
      "source": [
        "df['power'].sum()"
      ],
      "metadata": {
        "colab": {
          "base_uri": "https://localhost:8080/"
        },
        "id": "HHq7F5A3KTS_",
        "outputId": "218cf54d-6504-42a6-dc53-084e2b9232c2"
      },
      "execution_count": 100,
      "outputs": [
        {
          "output_type": "execute_result",
          "data": {
            "text/plain": [
              "86036"
            ]
          },
          "metadata": {},
          "execution_count": 100
        }
      ]
    },
    {
      "cell_type": "code",
      "source": [],
      "metadata": {
        "id": "WrAeZad8KcNS"
      },
      "execution_count": null,
      "outputs": []
    }
  ]
}