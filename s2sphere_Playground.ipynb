{
  "nbformat": 4,
  "nbformat_minor": 0,
  "metadata": {
    "colab": {
      "name": "s2sphere Playground.ipynb",
      "provenance": [],
      "authorship_tag": "ABX9TyPX8Um36oN53Zdqe9ISDYwp",
      "include_colab_link": true
    },
    "kernelspec": {
      "name": "python3",
      "display_name": "Python 3"
    }
  },
  "cells": [
    {
      "cell_type": "markdown",
      "metadata": {
        "id": "view-in-github",
        "colab_type": "text"
      },
      "source": [
        "<a href=\"https://colab.research.google.com/github/BoyPlankton/public_notebooks/blob/master/s2sphere_Playground.ipynb\" target=\"_parent\"><img src=\"https://colab.research.google.com/assets/colab-badge.svg\" alt=\"Open In Colab\"/></a>"
      ]
    },
    {
      "cell_type": "code",
      "metadata": {
        "id": "PNFGRalcJwgL",
        "colab_type": "code",
        "colab": {
          "base_uri": "https://localhost:8080/",
          "height": 51
        },
        "outputId": "10e03443-6fe1-48bd-bf0e-f11daa98af2e"
      },
      "source": [
        "!pip install s2sphere"
      ],
      "execution_count": 73,
      "outputs": [
        {
          "output_type": "stream",
          "text": [
            "Requirement already satisfied: s2sphere in /usr/local/lib/python3.6/dist-packages (0.2.5)\n",
            "Requirement already satisfied: future>=0.15 in /usr/local/lib/python3.6/dist-packages (from s2sphere) (0.16.0)\n"
          ],
          "name": "stdout"
        }
      ]
    },
    {
      "cell_type": "code",
      "metadata": {
        "id": "HP6ZggVIVwsv",
        "colab_type": "code",
        "colab": {}
      },
      "source": [
        "import s2sphere\n",
        "\n",
        "lat = 37791541\n",
        "lng = -122390014\n",
        "\n",
        "cellid = s2sphere.CellId.from_lat_lng(s2sphere.LatLng.from_degrees(lat/1e6,lng/1e6))"
      ],
      "execution_count": 0,
      "outputs": []
    },
    {
      "cell_type": "markdown",
      "metadata": {
        "id": "ihBuM1HBaPGd",
        "colab_type": "text"
      },
      "source": [
        "You lose precision converting the lat and lng into a cellid. The result is a level 30 S2 cell."
      ]
    },
    {
      "cell_type": "code",
      "metadata": {
        "id": "PHmCqh6RZRst",
        "colab_type": "code",
        "colab": {
          "base_uri": "https://localhost:8080/",
          "height": 34
        },
        "outputId": "b033f0f2-09e6-4f00-cadc-4962713e1c47"
      },
      "source": [
        "print(f\"LatLong: {cellid.to_lat_lng()}\")"
      ],
      "execution_count": 82,
      "outputs": [
        {
          "output_type": "stream",
          "text": [
            "LatLong: LatLng: 37.79154098519877,-122.39001395963571\n"
          ],
          "name": "stdout"
        }
      ]
    },
    {
      "cell_type": "markdown",
      "metadata": {
        "id": "sk8pVzeOa2Nf",
        "colab_type": "text"
      },
      "source": [
        "The cellid is has two forms of representation.  The first is an integer and the second is a compressed hexadecimal version that the library calls a token."
      ]
    },
    {
      "cell_type": "code",
      "metadata": {
        "id": "jhp_fSsdZIgk",
        "colab_type": "code",
        "colab": {
          "base_uri": "https://localhost:8080/",
          "height": 34
        },
        "outputId": "33cc7600-2b00-41f9-fff9-e3824af84975"
      },
      "source": [
        "print(f\"Cell ID:{cellid.id()} Token:{cellid.to_token()}\")"
      ],
      "execution_count": 83,
      "outputs": [
        {
          "output_type": "stream",
          "text": [
            "Cell ID:9260949427115031679 Token:8085806ff60c7c7f\n"
          ],
          "name": "stdout"
        }
      ]
    },
    {
      "cell_type": "markdown",
      "metadata": {
        "id": "JPJyOAUXfqsp",
        "colab_type": "text"
      },
      "source": [
        "The parent() function returns the parent cell for a given cellid. The smaller the cell level the larger the area covered by the cell.\n",
        "\n",
        "The average size of a level 30 S2 cell is 0.74 cm^2, level 20 S2 cell is 77.32 m^2, and level 10 S2 cell is 81.07 km^2.\n",
        "\n",
        "If you store a point as a cellid you can query all the points between the min and max values of the cell to find all the points within that cell."
      ]
    },
    {
      "cell_type": "code",
      "metadata": {
        "id": "lenrxMiRaLDk",
        "colab_type": "code",
        "colab": {
          "base_uri": "https://localhost:8080/",
          "height": 527
        },
        "outputId": "1dd09405-aa9a-4637-9ff2-5d6754853dac"
      },
      "source": [
        "def iterate_over_cells(cell):\n",
        "  while cell.level() >= 1:\n",
        "    yield cell\n",
        "\n",
        "    cell = cell.parent()\n",
        "\n",
        "for x in iterate_over_cells(cellid):\n",
        "  print(f\"Level: {x.level()} Cell ID: {x.id()} Min: {x.range_min().id()} Max: {x.range_max().id()} Token: {x.to_token()}\")"
      ],
      "execution_count": 84,
      "outputs": [
        {
          "output_type": "stream",
          "text": [
            "Level: 30 Cell ID: 9260949427115031679 Min: 9260949427115031679 Max: 9260949427115031679 Token: 8085806ff60c7c7f\n",
            "Level: 29 Cell ID: 9260949427115031676 Min: 9260949427115031673 Max: 9260949427115031679 Token: 8085806ff60c7c7c\n",
            "Level: 28 Cell ID: 9260949427115031664 Min: 9260949427115031649 Max: 9260949427115031679 Token: 8085806ff60c7c7\n",
            "Level: 27 Cell ID: 9260949427115031616 Min: 9260949427115031553 Max: 9260949427115031679 Token: 8085806ff60c7c4\n",
            "Level: 26 Cell ID: 9260949427115031808 Min: 9260949427115031553 Max: 9260949427115032063 Token: 8085806ff60c7d\n",
            "Level: 25 Cell ID: 9260949427115031552 Min: 9260949427115030529 Max: 9260949427115032575 Token: 8085806ff60c7c\n",
            "Level: 24 Cell ID: 9260949427115028480 Min: 9260949427115024385 Max: 9260949427115032575 Token: 8085806ff60c7\n",
            "Level: 23 Cell ID: 9260949427115016192 Min: 9260949427114999809 Max: 9260949427115032575 Token: 8085806ff60c4\n",
            "Level: 22 Cell ID: 9260949427115065344 Min: 9260949427114999809 Max: 9260949427115130879 Token: 8085806ff60d\n",
            "Level: 21 Cell ID: 9260949427114999808 Min: 9260949427114737665 Max: 9260949427115261951 Token: 8085806ff60c\n",
            "Level: 20 Cell ID: 9260949427115261952 Min: 9260949427114213377 Max: 9260949427116310527 Token: 8085806ff61\n",
            "Level: 19 Cell ID: 9260949427118407680 Min: 9260949427114213377 Max: 9260949427122601983 Token: 8085806ff64\n",
            "Level: 18 Cell ID: 9260949427130990592 Min: 9260949427114213377 Max: 9260949427147767807 Token: 8085806ff7\n",
            "Level: 17 Cell ID: 9260949427080658944 Min: 9260949427013550081 Max: 9260949427147767807 Token: 8085806ff4\n",
            "Level: 16 Cell ID: 9260949427013550080 Min: 9260949426745114625 Max: 9260949427281985535 Token: 8085806ff\n",
            "Level: 15 Cell ID: 9260949426208243712 Min: 9260949425134501889 Max: 9260949427281985535 Token: 8085806fc\n",
            "Level: 14 Cell ID: 9260949422987018240 Min: 9260949418692050945 Max: 9260949427281985535 Token: 8085806f\n",
            "Level: 13 Cell ID: 9260949410102116352 Min: 9260949392922247169 Max: 9260949427281985535 Token: 8085806c\n",
            "Level: 12 Cell ID: 9260949427281985536 Min: 9260949358562508801 Max: 9260949496001462271 Token: 8085807\n",
            "Level: 11 Cell ID: 9260949221123555328 Min: 9260948946245648385 Max: 9260949496001462271 Token: 8085804\n",
            "Level: 10 Cell ID: 9260950045757276160 Min: 9260948946245648385 Max: 9260951145268903935 Token: 808581\n",
            "Level: 9 Cell ID: 9260953344292159488 Min: 9260948946245648385 Max: 9260957742338670591 Token: 808584\n",
            "Level: 8 Cell ID: 9260966538431692800 Min: 9260948946245648385 Max: 9260984130617737215 Token: 80859\n",
            "Level: 7 Cell ID: 9261019314989826048 Min: 9260948946245648385 Max: 9261089683734003711 Token: 8085c\n",
            "Level: 6 Cell ID: 9260808208757293056 Min: 9260526733780582401 Max: 9261089683734003711 Token: 8085\n",
            "Level: 5 Cell ID: 9260526733780582400 Min: 9259400833873739777 Max: 9261652633687425023 Token: 8084\n",
            "Level: 4 Cell ID: 9263904433501110272 Min: 9259400833873739777 Max: 9268408033128480767 Token: 809\n",
            "Level: 3 Cell ID: 9277415232383221760 Min: 9259400833873739777 Max: 9295429630892703743 Token: 80c\n",
            "Level: 2 Cell ID: 9295429630892703744 Min: 9223372036854775809 Max: 9367487224930631679 Token: 81\n",
            "Level: 1 Cell ID: 9511602413006487552 Min: 9223372036854775809 Max: 9799832789158199295 Token: 84\n"
          ],
          "name": "stdout"
        }
      ]
    },
    {
      "cell_type": "markdown",
      "metadata": {
        "id": "HO7LAaqXroaa",
        "colab_type": "text"
      },
      "source": [
        "The contains() method is a quick way to check if a cellid is part of a cell."
      ]
    },
    {
      "cell_type": "code",
      "metadata": {
        "id": "np1p0H21bhXL",
        "colab_type": "code",
        "colab": {
          "base_uri": "https://localhost:8080/",
          "height": 187
        },
        "outputId": "32675efb-7e8b-43bd-cbe2-1318c69e6115"
      },
      "source": [
        "cell_tokens = [\"80857fc\",\"808581\",\"808585c\",\"808587\",\"808f78c\",\"808f7d\",\"808f7f\",\"808f804\",\"808f81c\",\"808f824\"]\n",
        "\n",
        "for x in cell_tokens:\n",
        "  print(f\"{x} {s2sphere.CellId.from_token(x).contains(cellid)}\")"
      ],
      "execution_count": 86,
      "outputs": [
        {
          "output_type": "stream",
          "text": [
            "80857fc False\n",
            "808581 True\n",
            "808585c False\n",
            "808587 False\n",
            "808f78c False\n",
            "808f7d False\n",
            "808f7f False\n",
            "808f804 False\n",
            "808f81c False\n",
            "808f824 False\n"
          ],
          "name": "stdout"
        }
      ]
    },
    {
      "cell_type": "code",
      "metadata": {
        "id": "mw41pd1crhC6",
        "colab_type": "code",
        "colab": {}
      },
      "source": [
        ""
      ],
      "execution_count": 0,
      "outputs": []
    }
  ]
}