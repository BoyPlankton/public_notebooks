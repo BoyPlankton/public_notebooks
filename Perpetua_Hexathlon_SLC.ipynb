{
  "nbformat": 4,
  "nbformat_minor": 0,
  "metadata": {
    "colab": {
      "name": "Perpetua Hexathlon SLC.ipynb",
      "provenance": [],
      "collapsed_sections": [],
      "authorship_tag": "ABX9TyPgb/lRwwVpFpxFWQusxfmA",
      "include_colab_link": true
    },
    "kernelspec": {
      "name": "python3",
      "display_name": "Python 3"
    }
  },
  "cells": [
    {
      "cell_type": "markdown",
      "metadata": {
        "id": "view-in-github",
        "colab_type": "text"
      },
      "source": [
        "<a href=\"https://colab.research.google.com/github/BoyPlankton/public_notebooks/blob/master/Perpetua_Hexathlon_SLC.ipynb\" target=\"_parent\"><img src=\"https://colab.research.google.com/assets/colab-badge.svg\" alt=\"Open In Colab\"/></a>"
      ]
    },
    {
      "cell_type": "code",
      "metadata": {
        "id": "umDOZUR6ghgw",
        "colab_type": "code",
        "colab": {}
      },
      "source": [
        "import requests\n",
        "from bs4 import BeautifulSoup\n",
        "\n",
        "links = []\n",
        "\n",
        "html = requests.get('https://storage.googleapis.com/ingress-internal-event-data/hexathlon/20200229-SaltLakeCityUTUSA/SaltLakeCityUTUSA_artifacts_f90bab42-0b9a-5047-b7bf-dcf3a2ecdb47.html')\n",
        "soup = BeautifulSoup(html.text)\n",
        "for l in soup.find_all('a'):\n",
        "  links.append([l.get('href'), l.contents[0]])"
      ],
      "execution_count": 0,
      "outputs": []
    },
    {
      "cell_type": "code",
      "metadata": {
        "id": "56e9O5lIhgMO",
        "colab_type": "code",
        "outputId": "cb2abe9e-10c1-4c18-9c80-18e5610a2875",
        "colab": {
          "base_uri": "https://localhost:8080/",
          "height": 241
        }
      },
      "source": [
        "links"
      ],
      "execution_count": 0,
      "outputs": [
        {
          "output_type": "execute_result",
          "data": {
            "text/plain": [
              "[['https://storage.googleapis.com/ingress-internal-event-data/hexathlon/20200229-SaltLakeCityUTUSA/SaltLakeCityUTUSA_glyph_hack_points_b9b7f0e4-2491-5c61-b4ed-ab8ed5031632.html',\n",
              "  'Glyph Hack Points'],\n",
              " ['https://storage.googleapis.com/ingress-internal-event-data/hexathlon/20200229-SaltLakeCityUTUSA/SaltLakeCityUTUSA_artifacts_f90bab42-0b9a-5047-b7bf-dcf3a2ecdb47.html',\n",
              "  'Artifacts'],\n",
              " ['https://storage.googleapis.com/ingress-internal-event-data/hexathlon/20200229-SaltLakeCityUTUSA/SaltLakeCityUTUSA_hacks_9549cc66-3988-5b90-ac5f-63f509d38ba4.html',\n",
              "  'Hacks'],\n",
              " ['https://storage.googleapis.com/ingress-internal-event-data/hexathlon/20200229-SaltLakeCityUTUSA/SaltLakeCityUTUSA_mods_deployed_64957e99-6edd-5686-a6bd-4e37da778226.html',\n",
              "  'Mods Deployed'],\n",
              " ['https://storage.googleapis.com/ingress-internal-event-data/hexathlon/20200229-SaltLakeCityUTUSA/SaltLakeCityUTUSA_resonators_destroyed_120f5102-586b-5760-a415-154ec65613fa.html',\n",
              "  'Resonators Destroyed'],\n",
              " ['https://storage.googleapis.com/ingress-internal-event-data/hexathlon/20200229-SaltLakeCityUTUSA/SaltLakeCityUTUSA_deploys_11c75209-a771-5bef-9241-fd249c0110b0.html',\n",
              "  'Deploys']]"
            ]
          },
          "metadata": {
            "tags": []
          },
          "execution_count": 76
        }
      ]
    },
    {
      "cell_type": "code",
      "metadata": {
        "id": "oRGYzsRpe3uW",
        "colab_type": "code",
        "colab": {}
      },
      "source": [
        "import pandas as pd"
      ],
      "execution_count": 0,
      "outputs": []
    },
    {
      "cell_type": "code",
      "metadata": {
        "id": "3DCUy2UOfaw9",
        "colab_type": "code",
        "colab": {}
      },
      "source": [
        "for l in links:\n",
        "  l.append(pd.read_html(l[0])[0])"
      ],
      "execution_count": 0,
      "outputs": []
    },
    {
      "cell_type": "code",
      "metadata": {
        "id": "BwzXhUmxkXMK",
        "colab_type": "code",
        "colab": {}
      },
      "source": [
        "results = []\n",
        "\n",
        "for a in links[0][2]['Agent'].values:\n",
        "  agent = {}\n",
        "\n",
        "  agent['Agent'] = a\n",
        "\n",
        "  for l in links:\n",
        "    agent[l[1]] = l[2][l[2]['Agent'] == a]['Rank'].values[0]\n",
        "  \n",
        "  results.append(agent)"
      ],
      "execution_count": 0,
      "outputs": []
    },
    {
      "cell_type": "code",
      "metadata": {
        "id": "Z4rkhMmgn1YI",
        "colab_type": "code",
        "colab": {}
      },
      "source": [
        "x = pd.DataFrame(results)"
      ],
      "execution_count": 0,
      "outputs": []
    },
    {
      "cell_type": "code",
      "metadata": {
        "id": "yI1jkeOGo7OI",
        "colab_type": "code",
        "colab": {}
      },
      "source": [
        "x.to_csv('results.csv')"
      ],
      "execution_count": 0,
      "outputs": []
    },
    {
      "cell_type": "code",
      "metadata": {
        "id": "ZgB5Kes0rOvc",
        "colab_type": "code",
        "colab": {}
      },
      "source": [
        ""
      ],
      "execution_count": 0,
      "outputs": []
    }
  ]
}