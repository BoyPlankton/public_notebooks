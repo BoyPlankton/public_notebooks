{
  "nbformat": 4,
  "nbformat_minor": 0,
  "metadata": {
    "colab": {
      "name": "Keras - Celsius to Farenheit.ipynb",
      "provenance": [],
      "collapsed_sections": [],
      "authorship_tag": "ABX9TyNL3cZ8dQ29rlq2DlmLylKt",
      "include_colab_link": true
    },
    "kernelspec": {
      "name": "python3",
      "display_name": "Python 3"
    }
  },
  "cells": [
    {
      "cell_type": "markdown",
      "metadata": {
        "id": "view-in-github",
        "colab_type": "text"
      },
      "source": [
        "<a href=\"https://colab.research.google.com/github/BoyPlankton/public_notebooks/blob/master/Keras_Celsius_to_Farenheit.ipynb\" target=\"_parent\"><img src=\"https://colab.research.google.com/assets/colab-badge.svg\" alt=\"Open In Colab\"/></a>"
      ]
    },
    {
      "cell_type": "code",
      "metadata": {
        "id": "kj2I0BBDBbT-",
        "colab_type": "code",
        "colab": {}
      },
      "source": [
        "import tensorflow as tf\n",
        "import numpy as np\n",
        "import pandas as pd"
      ],
      "execution_count": 1,
      "outputs": []
    },
    {
      "cell_type": "code",
      "metadata": {
        "id": "ginAK22LB-9X",
        "colab_type": "code",
        "colab": {}
      },
      "source": [
        "def c_to_f(c):\n",
        "  return (c*1.8)+32"
      ],
      "execution_count": 2,
      "outputs": []
    },
    {
      "cell_type": "code",
      "metadata": {
        "id": "a8HM7x9kDFAc",
        "colab_type": "code",
        "colab": {}
      },
      "source": [
        "c = np.array(range(-100, 101), dtype=float)\n",
        "f = np.array([c_to_f(f) for f in c], dtype=float)"
      ],
      "execution_count": 3,
      "outputs": []
    },
    {
      "cell_type": "code",
      "metadata": {
        "id": "vpku8kQOBidS",
        "colab_type": "code",
        "colab": {}
      },
      "source": [
        "model = tf.keras.Sequential([\n",
        "  tf.keras.layers.Dense(units=1, input_shape=[1])\n",
        "])"
      ],
      "execution_count": 4,
      "outputs": []
    },
    {
      "cell_type": "code",
      "metadata": {
        "id": "7bRmfWxJBler",
        "colab_type": "code",
        "colab": {}
      },
      "source": [
        "model.compile(loss='mean_squared_error', \n",
        "              optimizer=tf.keras.optimizers.Adam(0.1), \n",
        "              metrics=['mean_squared_error'])"
      ],
      "execution_count": 5,
      "outputs": []
    },
    {
      "cell_type": "code",
      "metadata": {
        "id": "V4Tm1514Boiw",
        "colab_type": "code",
        "colab": {}
      },
      "source": [
        "history = model.fit(c, f, epochs=100, verbose=False)"
      ],
      "execution_count": 6,
      "outputs": []
    },
    {
      "cell_type": "code",
      "metadata": {
        "id": "O-TmoxiJByDL",
        "colab_type": "code",
        "colab": {
          "base_uri": "https://localhost:8080/",
          "height": 34
        },
        "outputId": "30ec3231-1199-4bfa-fe02-83c7d5ef93bc"
      },
      "source": [
        "print(model.predict([100.0]))"
      ],
      "execution_count": 7,
      "outputs": [
        {
          "output_type": "stream",
          "text": [
            "[[211.21819]]\n"
          ],
          "name": "stdout"
        }
      ]
    },
    {
      "cell_type": "code",
      "metadata": {
        "id": "O9TZJd4ZC7fO",
        "colab_type": "code",
        "colab": {}
      },
      "source": [
        "df = pd.DataFrame({'celsius': range(0,50,5)})"
      ],
      "execution_count": 8,
      "outputs": []
    },
    {
      "cell_type": "code",
      "metadata": {
        "id": "jEmWszZFFOJF",
        "colab_type": "code",
        "colab": {}
      },
      "source": [
        "df['farenheit'] = c_to_f(df['celsius'])\n",
        "df['predicted'] = model.predict(df['celsius'])\n",
        "df['diff'] = abs(df['farenheit'] - df['predicted'])"
      ],
      "execution_count": 9,
      "outputs": []
    },
    {
      "cell_type": "code",
      "metadata": {
        "id": "-yK1fCPSFicb",
        "colab_type": "code",
        "colab": {
          "base_uri": "https://localhost:8080/",
          "height": 359
        },
        "outputId": "39d77607-1bc1-40cb-e2bd-be1e19d93071"
      },
      "source": [
        "df"
      ],
      "execution_count": 10,
      "outputs": [
        {
          "output_type": "execute_result",
          "data": {
            "text/html": [
              "<div>\n",
              "<style scoped>\n",
              "    .dataframe tbody tr th:only-of-type {\n",
              "        vertical-align: middle;\n",
              "    }\n",
              "\n",
              "    .dataframe tbody tr th {\n",
              "        vertical-align: top;\n",
              "    }\n",
              "\n",
              "    .dataframe thead th {\n",
              "        text-align: right;\n",
              "    }\n",
              "</style>\n",
              "<table border=\"1\" class=\"dataframe\">\n",
              "  <thead>\n",
              "    <tr style=\"text-align: right;\">\n",
              "      <th></th>\n",
              "      <th>celsius</th>\n",
              "      <th>farenheit</th>\n",
              "      <th>predicted</th>\n",
              "      <th>diff</th>\n",
              "    </tr>\n",
              "  </thead>\n",
              "  <tbody>\n",
              "    <tr>\n",
              "      <th>0</th>\n",
              "      <td>0</td>\n",
              "      <td>32.0</td>\n",
              "      <td>31.177805</td>\n",
              "      <td>0.822195</td>\n",
              "    </tr>\n",
              "    <tr>\n",
              "      <th>1</th>\n",
              "      <td>5</td>\n",
              "      <td>41.0</td>\n",
              "      <td>40.179825</td>\n",
              "      <td>0.820175</td>\n",
              "    </tr>\n",
              "    <tr>\n",
              "      <th>2</th>\n",
              "      <td>10</td>\n",
              "      <td>50.0</td>\n",
              "      <td>49.181843</td>\n",
              "      <td>0.818157</td>\n",
              "    </tr>\n",
              "    <tr>\n",
              "      <th>3</th>\n",
              "      <td>15</td>\n",
              "      <td>59.0</td>\n",
              "      <td>58.183861</td>\n",
              "      <td>0.816139</td>\n",
              "    </tr>\n",
              "    <tr>\n",
              "      <th>4</th>\n",
              "      <td>20</td>\n",
              "      <td>68.0</td>\n",
              "      <td>67.185883</td>\n",
              "      <td>0.814117</td>\n",
              "    </tr>\n",
              "    <tr>\n",
              "      <th>5</th>\n",
              "      <td>25</td>\n",
              "      <td>77.0</td>\n",
              "      <td>76.187897</td>\n",
              "      <td>0.812103</td>\n",
              "    </tr>\n",
              "    <tr>\n",
              "      <th>6</th>\n",
              "      <td>30</td>\n",
              "      <td>86.0</td>\n",
              "      <td>85.189919</td>\n",
              "      <td>0.810081</td>\n",
              "    </tr>\n",
              "    <tr>\n",
              "      <th>7</th>\n",
              "      <td>35</td>\n",
              "      <td>95.0</td>\n",
              "      <td>94.191933</td>\n",
              "      <td>0.808067</td>\n",
              "    </tr>\n",
              "    <tr>\n",
              "      <th>8</th>\n",
              "      <td>40</td>\n",
              "      <td>104.0</td>\n",
              "      <td>103.193954</td>\n",
              "      <td>0.806046</td>\n",
              "    </tr>\n",
              "    <tr>\n",
              "      <th>9</th>\n",
              "      <td>45</td>\n",
              "      <td>113.0</td>\n",
              "      <td>112.195969</td>\n",
              "      <td>0.804031</td>\n",
              "    </tr>\n",
              "  </tbody>\n",
              "</table>\n",
              "</div>"
            ],
            "text/plain": [
              "   celsius  farenheit   predicted      diff\n",
              "0        0       32.0   31.177805  0.822195\n",
              "1        5       41.0   40.179825  0.820175\n",
              "2       10       50.0   49.181843  0.818157\n",
              "3       15       59.0   58.183861  0.816139\n",
              "4       20       68.0   67.185883  0.814117\n",
              "5       25       77.0   76.187897  0.812103\n",
              "6       30       86.0   85.189919  0.810081\n",
              "7       35       95.0   94.191933  0.808067\n",
              "8       40      104.0  103.193954  0.806046\n",
              "9       45      113.0  112.195969  0.804031"
            ]
          },
          "metadata": {
            "tags": []
          },
          "execution_count": 10
        }
      ]
    },
    {
      "cell_type": "code",
      "metadata": {
        "id": "4JqWRehhFjfH",
        "colab_type": "code",
        "colab": {}
      },
      "source": [
        ""
      ],
      "execution_count": 10,
      "outputs": []
    }
  ]
}