{
  "nbformat": 4,
  "nbformat_minor": 0,
  "metadata": {
    "colab": {
      "provenance": [],
      "authorship_tag": "ABX9TyOc9psLs19nUHF4yIpow5bj",
      "include_colab_link": true
    },
    "kernelspec": {
      "name": "python3",
      "display_name": "Python 3"
    },
    "language_info": {
      "name": "python"
    }
  },
  "cells": [
    {
      "cell_type": "markdown",
      "metadata": {
        "id": "view-in-github",
        "colab_type": "text"
      },
      "source": [
        "<a href=\"https://colab.research.google.com/github/BoyPlankton/public_notebooks/blob/master/AOC_2024_Day_1_Problem_1.ipynb\" target=\"_parent\"><img src=\"https://colab.research.google.com/assets/colab-badge.svg\" alt=\"Open In Colab\"/></a>"
      ]
    },
    {
      "cell_type": "code",
      "execution_count": null,
      "metadata": {
        "id": "ZAmx7TMDG8Jl"
      },
      "outputs": [],
      "source": [
        "import pandas as pd\n",
        "import re"
      ]
    },
    {
      "cell_type": "code",
      "source": [
        "df = pd.read_csv('aoc_day1_input.txt', names=['value'])"
      ],
      "metadata": {
        "id": "cDjK3H0ZW1wF"
      },
      "execution_count": null,
      "outputs": []
    },
    {
      "cell_type": "code",
      "source": [
        "def extractValues(val):\n",
        "  valx = re.findall('(\\d)', val)\n",
        "\n",
        "  vals = (int(valx[0])*10)+int(valx[len(valx)-1])\n",
        "\n",
        "  return vals"
      ],
      "metadata": {
        "id": "MnAQqZQvaAph"
      },
      "execution_count": null,
      "outputs": []
    },
    {
      "cell_type": "code",
      "source": [
        "df['values'] = df['value'].apply(lambda x: extractValues(x))"
      ],
      "metadata": {
        "id": "setk5-FVX8cw"
      },
      "execution_count": null,
      "outputs": []
    },
    {
      "cell_type": "code",
      "source": [
        "df['values'].sum()"
      ],
      "metadata": {
        "colab": {
          "base_uri": "https://localhost:8080/"
        },
        "id": "r0C3kS_GY0x8",
        "outputId": "06b51326-00d5-4120-d53f-04920b61235d"
      },
      "execution_count": null,
      "outputs": [
        {
          "output_type": "execute_result",
          "data": {
            "text/plain": [
              "54968"
            ]
          },
          "metadata": {},
          "execution_count": 55
        }
      ]
    },
    {
      "cell_type": "markdown",
      "source": [
        "Part 2"
      ],
      "metadata": {
        "id": "-pT0dr8scCRV"
      }
    },
    {
      "cell_type": "code",
      "source": [
        "from itertools import combinations\n",
        "\n",
        "def convertValue(val):\n",
        "  cv = {\n",
        "      'one': 1,\n",
        "      'two': 2,\n",
        "      'three': 3,\n",
        "      'four': 4,\n",
        "      'five': 5,\n",
        "      'six': 6,\n",
        "      'seven': 7,\n",
        "      'eight': 8,\n",
        "      'nine': 9,\n",
        "      '0': 0,\n",
        "      '1': 1,\n",
        "      '2': 2,\n",
        "      '3': 3,\n",
        "      '4': 4,\n",
        "      '5': 5,\n",
        "      '6': 6,\n",
        "      '7': 7,\n",
        "      '8': 8,\n",
        "      '9': 9\n",
        "  }\n",
        "\n",
        "  if val in cv:\n",
        "    return cv[val]\n",
        "\n",
        "def extractValues2(val):\n",
        "  valx = [val[x:y] for x, y in combinations(\n",
        "            range(len(val) + 1), r = 2)]\n",
        "\n",
        "  valx = [x for x in filter(lambda x: x != None, [convertValue(x) for x in valx])]\n",
        "\n",
        "  vals = (valx[0]*10)+(valx[len(valx)-1])\n",
        "\n",
        "  return vals"
      ],
      "metadata": {
        "id": "9STnp6VKcB7X"
      },
      "execution_count": 190,
      "outputs": []
    },
    {
      "cell_type": "code",
      "source": [
        "extractValues2(\"eightwo\")"
      ],
      "metadata": {
        "colab": {
          "base_uri": "https://localhost:8080/"
        },
        "id": "SghoKLUOeBQB",
        "outputId": "37667f23-31b2-4103-cbd9-e8fbc56c2f8a"
      },
      "execution_count": 191,
      "outputs": [
        {
          "output_type": "execute_result",
          "data": {
            "text/plain": [
              "82"
            ]
          },
          "metadata": {},
          "execution_count": 191
        }
      ]
    },
    {
      "cell_type": "code",
      "source": [
        "assert extractValues2(\"two1nine\") == 29\n",
        "assert extractValues2(\"eightwothree\") == 83\n",
        "assert extractValues2(\"abcone2threexyz\") == 13\n",
        "assert extractValues2(\"xtwone3four\") == 24\n",
        "assert extractValues2(\"4nineeightseven2\") == 42\n",
        "assert extractValues2(\"zoneight234\") == 14\n",
        "assert extractValues2(\"7pqrstsixteen\") == 76\n",
        "assert extractValues2(\"eightwo\") == 82"
      ],
      "metadata": {
        "id": "wtCdnZikdPCk"
      },
      "execution_count": 192,
      "outputs": []
    },
    {
      "cell_type": "code",
      "source": [
        "df['values2'] = df['value'].apply(lambda x: extractValues2(x))"
      ],
      "metadata": {
        "id": "1IK8nruyaSv9"
      },
      "execution_count": 193,
      "outputs": []
    },
    {
      "cell_type": "code",
      "source": [
        "df['values2'].sum()"
      ],
      "metadata": {
        "colab": {
          "base_uri": "https://localhost:8080/"
        },
        "id": "weuKhOIgdExi",
        "outputId": "b29c2475-6a6c-4c70-ee51-161da37cd903"
      },
      "execution_count": 194,
      "outputs": [
        {
          "output_type": "execute_result",
          "data": {
            "text/plain": [
              "54094"
            ]
          },
          "metadata": {},
          "execution_count": 194
        }
      ]
    },
    {
      "cell_type": "code",
      "source": [],
      "metadata": {
        "id": "bVCQqv5iqgaM"
      },
      "execution_count": null,
      "outputs": []
    }
  ]
}